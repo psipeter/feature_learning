{
 "cells": [
  {
   "cell_type": "code",
   "execution_count": 1,
   "id": "ce81df2d-e0c0-4b09-9817-bac6388e842a",
   "metadata": {},
   "outputs": [],
   "source": [
    "import numpy as np\n",
    "import scipy\n",
    "import matplotlib.pyplot as plt\n",
    "import seaborn as sns\n",
    "import pandas as pd\n",
    "import nengo\n",
    "import sspspace\n",
    "import time\n",
    "from uniform_encoders import *\n",
    "palette = sns.color_palette(\"dark\")\n",
    "sns.set_palette(palette)\n",
    "sns.set(context='paper', style='white')"
   ]
  },
  {
   "cell_type": "markdown",
   "id": "bedf2aa7-3012-4515-afe3-a4c5581d80ee",
   "metadata": {},
   "source": [
    "# Store state SSP in an integrator during the presentation phase, recall it during the feedback phase"
   ]
  },
  {
   "cell_type": "code",
   "execution_count": null,
   "id": "95437a77-4d86-4f71-8fff-f31b02e4dcb2",
   "metadata": {},
   "outputs": [],
   "source": [
    "seed = 0\n",
    "np.random.seed(seed)\n",
    "rng = np.random.RandomState(seed=seed)\n",
    "\n",
    "P = 2  # trial time\n",
    "pt = 1  # presentation time\n",
    "ft = P-pt  # feedback time\n",
    "T = 5*P  # total time\n",
    "\n",
    "ssp_dim = 64  # SSP dimension\n",
    "length_scale = 1  # lengthscale hypeparameter\n",
    "state_neurons = 3000\n",
    "memory_neurons = 3000\n",
    "state_intercept = 0.0\n",
    "memory_intercept = -0.3\n",
    "\n",
    "# Initialize SSP space\n",
    "ssp_space = sspspace.RandomSSPSpace(ssp_dim=ssp_dim, domain_dim=3, rng=rng)\n",
    "ssp_space.update_lengthscale([length_scale, length_scale, length_scale])\n",
    "\n",
    "# dynamic input to the network\n",
    "objects = []\n",
    "for trial in range(int(T/P)):\n",
    "    features = rng.uniform(-1,1,size=3)\n",
    "    object_ssp = ssp_space.encode(features)\n",
    "    objects.append(object_ssp)\n",
    "\n",
    "# dynamic input to the network\n",
    "input_func = lambda t: objects[int(t/P)].flatten()  #  if t%P<pt else np.zeros((ssp_dim))\n",
    "stop_func = lambda t: 0 if t%P<pt else -1000\n",
    "\n",
    "# encoders and intercepts determine tuning curve distribution\n",
    "state_encoders = ScatteredHypersphere(surface=True).sample(state_neurons, ssp_dim, rng=rng)\n",
    "state_intercepts = nengo.dists.Uniform(state_intercept, state_intercept)\n",
    "memory_encoders = ScatteredHypersphere(surface=True).sample(memory_neurons, ssp_dim, rng=rng)\n",
    "memory_intercepts = nengo.dists.Uniform(memory_intercept, memory_intercept)\n",
    "\n",
    "# nengo Network\n",
    "network = nengo.Network(seed=seed)\n",
    "with network:\n",
    "    inpt_ssp = nengo.Node(input_func)\n",
    "    stop = nengo.Node(stop_func)\n",
    "    state = nengo.Ensemble(n_neurons=state_neurons, dimensions=ssp_dim, seed=seed,\n",
    "                            encoders=state_encoders, intercepts=state_intercepts)\n",
    "    diff = nengo.Ensemble(n_neurons=state_neurons, dimensions=ssp_dim, seed=seed,\n",
    "                            encoders=state_encoders, intercepts=state_intercepts)\n",
    "    memory = nengo.Ensemble(n_neurons=memory_neurons, dimensions=ssp_dim, seed=seed,\n",
    "                            encoders=memory_encoders, intercepts=memory_intercepts)\n",
    "    state2 = nengo.Ensemble(n_neurons=state_neurons, dimensions=ssp_dim, seed=seed,\n",
    "                            encoders=state_encoders, intercepts=state_intercepts)\n",
    "    \n",
    "    nengo.Connection(inpt_ssp, state, synapse=None)\n",
    "    nengo.Connection(state, diff, synapse=0.01)\n",
    "    nengo.Connection(diff, memory, synapse=0.1)\n",
    "    nengo.Connection(memory, diff, synapse=0.01, transform=-1)\n",
    "    nengo.Connection(memory, memory, synapse=0.1)\n",
    "    nengo.Connection(memory, state2, synapse=0.01)\n",
    "    nengo.Connection(stop, state.neurons, synapse=None, transform=np.ones((state_neurons, 1)))\n",
    "    nengo.Connection(stop, diff.neurons, synapse=None, transform=np.ones((memory_neurons, 1)))\n",
    "    \n",
    "    p_ssp = nengo.Probe(inpt_ssp, synapse=0.01)\n",
    "    p_state = nengo.Probe(state, synapse=0.01)\n",
    "    p_state2 = nengo.Probe(state2, synapse=0.01)\n",
    "    p_diff = nengo.Probe(diff, synapse=0.01)\n",
    "    p_memory = nengo.Probe(memory, synapse=0.01)\n",
    "\n",
    "sim = nengo.Simulator(network, progress_bar=False)\n",
    "with sim:\n",
    "    sim.run(T-0.001)"
   ]
  },
  {
   "cell_type": "code",
   "execution_count": null,
   "id": "eee719be-c370-4b7d-9493-ecc6984b9ded",
   "metadata": {},
   "outputs": [],
   "source": [
    "fig, axes = plt.subplots(nrows=1, ncols=4, sharey=True, figsize=(10,4))\n",
    "axes[0].plot(sim.trange(), sim.data[p_ssp])\n",
    "axes[1].plot(sim.trange(), sim.data[p_state])\n",
    "axes[2].plot(sim.trange(), sim.data[p_diff])\n",
    "axes[3].plot(sim.trange(), sim.data[p_memory])\n",
    "axes[0].set(title='input')\n",
    "axes[1].set(title='state')\n",
    "axes[2].set(title='diff')\n",
    "axes[3].set(title='memory')\n",
    "plt.tight_layout()"
   ]
  },
  {
   "cell_type": "code",
   "execution_count": null,
   "id": "aee5d44d-99ee-4a48-b155-2db8021cfadf",
   "metadata": {},
   "outputs": [],
   "source": [
    "ssp_memory_similarity = np.sum(sim.data[p_memory] * sim.data[p_ssp], axis=1, keepdims=True)\n",
    "state2_memory_similarity = np.sum(sim.data[p_state2] * sim.data[p_ssp], axis=1, keepdims=True)\n",
    "fig, axes = plt.subplots(nrows=1, ncols=1, figsize=(10,4))\n",
    "axes.plot(sim.trange(), ssp_memory_similarity)\n",
    "axes.plot(sim.trange(), state2_memory_similarity)\n",
    "plt.tight_layout()"
   ]
  },
  {
   "cell_type": "code",
   "execution_count": null,
   "id": "bc6a998a-c046-4944-8527-c2231ae39f3e",
   "metadata": {},
   "outputs": [],
   "source": []
  }
 ],
 "metadata": {
  "kernelspec": {
   "display_name": "Python 3 (ipykernel)",
   "language": "python",
   "name": "python3"
  },
  "language_info": {
   "codemirror_mode": {
    "name": "ipython",
    "version": 3
   },
   "file_extension": ".py",
   "mimetype": "text/x-python",
   "name": "python",
   "nbconvert_exporter": "python",
   "pygments_lexer": "ipython3",
   "version": "3.11.10"
  }
 },
 "nbformat": 4,
 "nbformat_minor": 5
}
